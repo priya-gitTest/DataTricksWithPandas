{
 "cells": [
  {
   "cell_type": "code",
   "execution_count": null,
   "metadata": {},
   "outputs": [],
   "source": [
    "from castoredc_api import CastorClient\n",
    "\n",
    "import pandas as pd"
   ]
  },
  {
   "cell_type": "markdown",
   "metadata": {},
   "source": [
    "client_id = ''\n",
    "client_secret = ''\n",
    "study_id = ''"
   ]
  },
  {
   "cell_type": "code",
   "execution_count": null,
   "metadata": {},
   "outputs": [],
   "source": [
    "# Create a client with your credentials\n",
    "c = CastorClient(client_id, \n",
    "                 client_secret, \n",
    "                 'data.castoredc.com')\n",
    "\n",
    "# Link the client to your study in the Castor EDC database\n",
    "c.link_study(study_id)\n",
    "\n",
    "\n",
    "# Then you can interact with the API\n",
    "# Get all records\n",
    "#c.all_records()\n",
    "b=list(c.all_records(archived=0))"
   ]
  },
  {
   "cell_type": "code",
   "execution_count": null,
   "metadata": {},
   "outputs": [],
   "source": [
    "print(type(b))"
   ]
  },
  {
   "cell_type": "code",
   "execution_count": null,
   "metadata": {},
   "outputs": [],
   "source": [
    "df_castorStudy = pd.DataFrame.from_records(b)"
   ]
  },
  {
   "cell_type": "code",
   "execution_count": null,
   "metadata": {},
   "outputs": [],
   "source": [
    "print(df_castorStudy.shape)\n",
    "df_castorStudy.head()"
   ]
  },
  {
   "cell_type": "code",
   "execution_count": null,
   "metadata": {},
   "outputs": [],
   "source": [
    "#export_study_data\n",
    "#exclude_empty_surveys=False, exclude_empty_reports=False\n",
    "all_data_List = list(c.export_study_data(exclude_empty_surveys=False, exclude_empty_reports=False))"
   ]
  },
  {
   "cell_type": "code",
   "execution_count": null,
   "metadata": {},
   "outputs": [],
   "source": [
    "print(type(all_data_List))"
   ]
  },
  {
   "cell_type": "code",
   "execution_count": null,
   "metadata": {},
   "outputs": [],
   "source": [
    "df_castor_all_data = pd.DataFrame.from_records(all_data_List)"
   ]
  },
  {
   "cell_type": "code",
   "execution_count": null,
   "metadata": {},
   "outputs": [],
   "source": [
    "print(df_castor_all_data.shape)\n",
    "df_castor_all_data.tail()"
   ]
  },
  {
   "cell_type": "code",
   "execution_count": null,
   "metadata": {},
   "outputs": [],
   "source": [
    "df_castor_all_data_Study = df_castor_all_data.loc[df_castor_all_data['Form Type'] == 'Study']\n",
    "print(df_castor_all_data_Study.shape)\n",
    "df_castor_all_data_Study.tail()"
   ]
  },
  {
   "cell_type": "code",
   "execution_count": null,
   "metadata": {},
   "outputs": [],
   "source": [
    "#ARCHIVED-\n",
    "prefixes  = 'ARCHIVED'\n",
    "dfNew = df_castor_all_data_Study[~df_castor_all_data_Study['Record ID'].str.contains(prefixes)]\n",
    "print(dfNew.shape)\n",
    "dfNew.tail()"
   ]
  }
 ],
 "metadata": {
  "interpreter": {
   "hash": "ad2bdc8ecc057115af97d19610ffacc2b4e99fae6737bb82f5d7fb13d2f2c186"
  },
  "kernelspec": {
   "display_name": "Python 3.6.5 ('base')",
   "language": "python",
   "name": "python3"
  },
  "language_info": {
   "codemirror_mode": {
    "name": "ipython",
    "version": 3
   },
   "file_extension": ".py",
   "mimetype": "text/x-python",
   "name": "python",
   "nbconvert_exporter": "python",
   "pygments_lexer": "ipython3",
   "version": "3.6.5"
  },
  "orig_nbformat": 4
 },
 "nbformat": 4,
 "nbformat_minor": 2
}
