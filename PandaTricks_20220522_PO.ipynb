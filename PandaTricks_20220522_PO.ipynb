{
 "cells": [
  {
   "cell_type": "code",
   "execution_count": 1,
   "metadata": {},
   "outputs": [
    {
     "name": "stdout",
     "output_type": "stream",
     "text": [
      "5\n"
     ]
    }
   ],
   "source": [
    "print(2+3)"
   ]
  },
  {
   "cell_type": "markdown",
   "metadata": {},
   "source": [
    "Function or order(arrange columns) in a particular Order from Left."
   ]
  },
  {
   "cell_type": "code",
   "execution_count": 6,
   "metadata": {},
   "outputs": [
    {
     "name": "stdout",
     "output_type": "stream",
     "text": [
      "     Name  Age  StudentID\n",
      "0     Tom   20          1\n",
      "1  Joseph   21          2\n",
      "2   Krish   19          3\n",
      "3    John   18          4\n"
     ]
    }
   ],
   "source": [
    "# Function to order column in a particular order\n",
    "#Very Handy to get unique columns in the begining, esp in case of Wide Dataset.\n",
    "# REF : https://stackoverflow.com/questions/13148429/how-to-change-the-order-of-dataframe-columns\n",
    "def order(frame,var):\n",
    "    if type(var) is str:\n",
    "        var = [var] #let the command take a string or list\n",
    "    varlist =[w for w in frame.columns if w not in var]\n",
    "    frame = frame[var+varlist]\n",
    "    return frame \n",
    "\n",
    "import pandas as pd\n",
    "# assign data of lists.\n",
    "data =  {'Name': ['Tom', 'Joseph', 'Krish', 'John'], 'Age': [20, 21, 19, 18],'StudentID':[1,2,3,4]}\n",
    "# Create DataFrame.\n",
    "testdf = pd.DataFrame(data)\n",
    "# Print the output.\n",
    "print(testdf)"
   ]
  },
  {
   "cell_type": "code",
   "execution_count": 7,
   "metadata": {},
   "outputs": [
    {
     "name": "stdout",
     "output_type": "stream",
     "text": [
      "   StudentID    Name  Age\n",
      "0          1     Tom   20\n",
      "1          2  Joseph   21\n",
      "2          3   Krish   19\n",
      "3          4    John   18\n"
     ]
    }
   ],
   "source": [
    "testdf = order(testdf,['StudentID','Name'])\n",
    "print(testdf)"
   ]
  },
  {
   "cell_type": "code",
   "execution_count": null,
   "metadata": {},
   "outputs": [],
   "source": []
  }
 ],
 "metadata": {
  "interpreter": {
   "hash": "ad2bdc8ecc057115af97d19610ffacc2b4e99fae6737bb82f5d7fb13d2f2c186"
  },
  "kernelspec": {
   "display_name": "Python 3.6.5 ('base')",
   "language": "python",
   "name": "python3"
  },
  "language_info": {
   "codemirror_mode": {
    "name": "ipython",
    "version": 3
   },
   "file_extension": ".py",
   "mimetype": "text/x-python",
   "name": "python",
   "nbconvert_exporter": "python",
   "pygments_lexer": "ipython3",
   "version": "3.6.5"
  },
  "orig_nbformat": 4
 },
 "nbformat": 4,
 "nbformat_minor": 2
}
