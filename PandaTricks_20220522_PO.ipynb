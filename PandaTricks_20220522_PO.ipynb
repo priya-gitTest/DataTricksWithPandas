{
 "cells": [
  {
   "cell_type": "code",
   "execution_count": 1,
   "metadata": {},
   "outputs": [
    {
     "name": "stdout",
     "output_type": "stream",
     "text": [
      "5\n"
     ]
    }
   ],
   "source": [
    "print(2+3)"
   ]
  },
  {
   "cell_type": "code",
   "execution_count": 9,
   "metadata": {},
   "outputs": [
    {
     "name": "stdout",
     "output_type": "stream",
     "text": [
      "     Name  Age  StudentID\n",
      "0     Tom   20          1\n",
      "1  Joseph   21          2\n",
      "2   Krish   19          3\n",
      "3    John   18          4\n",
      "4    Linn   20          5\n"
     ]
    }
   ],
   "source": [
    "# Sample dataframe to be used in most of the functions below.\n",
    "import pandas as pd\n",
    "# assign data of lists.\n",
    "data =  {'Name': ['Tom', 'Joseph', 'Krish', 'John','Linn'], 'Age': [20, 21, 19, 18,20],'StudentID':[1,2,3,4,5]}\n",
    "# Create DataFrame.\n",
    "testdf = pd.DataFrame(data)\n",
    "# Print the output.\n",
    "print(testdf)"
   ]
  },
  {
   "cell_type": "markdown",
   "metadata": {},
   "source": [
    "Function or order(arrange columns) in a particular Order from Left."
   ]
  },
  {
   "cell_type": "code",
   "execution_count": 10,
   "metadata": {},
   "outputs": [],
   "source": [
    "# Function to order column in a particular order\n",
    "#Very Handy to get unique columns in the begining, esp in case of Wide Dataset.\n",
    "# REF : https://stackoverflow.com/questions/13148429/how-to-change-the-order-of-dataframe-columns\n",
    "def order(frame,var):\n",
    "    if type(var) is str:\n",
    "        var = [var] #let the command take a string or list\n",
    "    varlist =[w for w in frame.columns if w not in var]\n",
    "    frame = frame[var+varlist]\n",
    "    return frame \n"
   ]
  },
  {
   "cell_type": "code",
   "execution_count": 11,
   "metadata": {},
   "outputs": [
    {
     "name": "stdout",
     "output_type": "stream",
     "text": [
      "   StudentID    Name  Age\n",
      "0          1     Tom   20\n",
      "1          2  Joseph   21\n",
      "2          3   Krish   19\n",
      "3          4    John   18\n",
      "4          5    Linn   20\n"
     ]
    }
   ],
   "source": [
    "testdf = order(testdf,['StudentID','Name'])\n",
    "print(testdf)"
   ]
  },
  {
   "cell_type": "markdown",
   "metadata": {},
   "source": [
    "Function to create a CSV files from a dataframe based on Chunk Size\n",
    "especially useful to create file for upload in another system where their is restrictions \n",
    "in the nos of records or file Sizes etc."
   ]
  },
  {
   "cell_type": "code",
   "execution_count": 22,
   "metadata": {},
   "outputs": [],
   "source": [
    "from more_itertools import sliced\n",
    "import csv\n",
    "\n",
    "def createCSVsforImport(chunk_size, OutputLocation,dataframeInput):    \n",
    "    index_slices = sliced(range(len(dataframeInput)), chunk_size)    \n",
    "    i=0\n",
    "    for index_slice in index_slices:\n",
    "        chunk = dataframeInput.iloc[index_slice] # your dataframe chunk ready for use\n",
    "        chunk.to_csv(OutputLocation+'CSVFile_{id}.csv'.format(id = i), sep='|', encoding='utf-8-sig',index=False, line_terminator='\\n' , escapechar='\\\\', quoting=csv.QUOTE_ALL,chunksize=50)#,quoting=csv.QUOTE_NONE, escapechar='\\\\')\n",
    "        i = i+1   \n"
   ]
  },
  {
   "cell_type": "code",
   "execution_count": 23,
   "metadata": {},
   "outputs": [],
   "source": [
    "createCSVsforImport(2, \"D:\\\\GITCODE\\\\Outputs\\\\\",testdf)"
   ]
  },
  {
   "cell_type": "code",
   "execution_count": 33,
   "metadata": {},
   "outputs": [
    {
     "data": {
      "text/html": [
       "<img src=\"1_CSVOutputs.jpg\"/>"
      ],
      "text/plain": [
       "<IPython.core.display.Image object>"
      ]
     },
     "execution_count": 33,
     "metadata": {},
     "output_type": "execute_result"
    }
   ],
   "source": [
    "# import image module\n",
    "from IPython.display import Image\n",
    "  \n",
    "# get the image\n",
    "Image(url=\"1_CSVOutputs.jpg\")"
   ]
  },
  {
   "cell_type": "code",
   "execution_count": null,
   "metadata": {},
   "outputs": [],
   "source": []
  }
 ],
 "metadata": {
  "interpreter": {
   "hash": "ad2bdc8ecc057115af97d19610ffacc2b4e99fae6737bb82f5d7fb13d2f2c186"
  },
  "kernelspec": {
   "display_name": "Python 3.6.5 ('base')",
   "language": "python",
   "name": "python3"
  },
  "language_info": {
   "codemirror_mode": {
    "name": "ipython",
    "version": 3
   },
   "file_extension": ".py",
   "mimetype": "text/x-python",
   "name": "python",
   "nbconvert_exporter": "python",
   "pygments_lexer": "ipython3",
   "version": "3.6.5"
  },
  "orig_nbformat": 4
 },
 "nbformat": 4,
 "nbformat_minor": 2
}
